{
 "cells": [
  {
   "cell_type": "markdown",
   "metadata": {},
   "source": [
    "# Marketing A/B Testing  \n",
    "In the competitive world of digital marketing, understanding what drives user conversion is key to optimizing ad spend and campaign strategy. Companies invest heavily in marketing efforts, but without proper analysis, it's hard to know what actually works.\n",
    "\n",
    "In this project, I will:\n",
    "\n",
    "- Compare conversion rates across A/B test groups to evaluate campaign effectiveness.\n",
    "- Analyze the relationship between the number of ads shown and conversion likelihood.\n",
    "- Use statistical tests (Chi-Square and Mann-Whitney U) to assess significance.\n",
    "- Examine which days and hours generate the most conversions.\n",
    "- Visualize insights through boxplots, bar charts, and crosstabs using Python libraries."
   ]
  },
  {
   "cell_type": "code",
   "execution_count": 2,
   "metadata": {},
   "outputs": [],
   "source": [
    "import numpy as np\n",
    "import pandas as pd\n",
    "import matplotlib.pyplot as plt\n",
    "import seaborn as sns"
   ]
  },
  {
   "cell_type": "code",
   "execution_count": 3,
   "metadata": {},
   "outputs": [],
   "source": [
    "df = pd.read_csv(r'D:\\2025 Job prep\\Python\\marketing_AB.csv')"
   ]
  },
  {
   "cell_type": "markdown",
   "metadata": {},
   "source": [
    "## EDA"
   ]
  },
  {
   "cell_type": "code",
   "execution_count": 4,
   "metadata": {},
   "outputs": [
    {
     "data": {
      "text/html": [
       "<div>\n",
       "<style scoped>\n",
       "    .dataframe tbody tr th:only-of-type {\n",
       "        vertical-align: middle;\n",
       "    }\n",
       "\n",
       "    .dataframe tbody tr th {\n",
       "        vertical-align: top;\n",
       "    }\n",
       "\n",
       "    .dataframe thead th {\n",
       "        text-align: right;\n",
       "    }\n",
       "</style>\n",
       "<table border=\"1\" class=\"dataframe\">\n",
       "  <thead>\n",
       "    <tr style=\"text-align: right;\">\n",
       "      <th></th>\n",
       "      <th>Unnamed: 0</th>\n",
       "      <th>user id</th>\n",
       "      <th>test group</th>\n",
       "      <th>converted</th>\n",
       "      <th>total ads</th>\n",
       "      <th>most ads day</th>\n",
       "      <th>most ads hour</th>\n",
       "    </tr>\n",
       "  </thead>\n",
       "  <tbody>\n",
       "    <tr>\n",
       "      <td>0</td>\n",
       "      <td>0</td>\n",
       "      <td>1069124</td>\n",
       "      <td>ad</td>\n",
       "      <td>False</td>\n",
       "      <td>130</td>\n",
       "      <td>Monday</td>\n",
       "      <td>20</td>\n",
       "    </tr>\n",
       "    <tr>\n",
       "      <td>1</td>\n",
       "      <td>1</td>\n",
       "      <td>1119715</td>\n",
       "      <td>ad</td>\n",
       "      <td>False</td>\n",
       "      <td>93</td>\n",
       "      <td>Tuesday</td>\n",
       "      <td>22</td>\n",
       "    </tr>\n",
       "    <tr>\n",
       "      <td>2</td>\n",
       "      <td>2</td>\n",
       "      <td>1144181</td>\n",
       "      <td>ad</td>\n",
       "      <td>False</td>\n",
       "      <td>21</td>\n",
       "      <td>Tuesday</td>\n",
       "      <td>18</td>\n",
       "    </tr>\n",
       "    <tr>\n",
       "      <td>3</td>\n",
       "      <td>3</td>\n",
       "      <td>1435133</td>\n",
       "      <td>ad</td>\n",
       "      <td>False</td>\n",
       "      <td>355</td>\n",
       "      <td>Tuesday</td>\n",
       "      <td>10</td>\n",
       "    </tr>\n",
       "    <tr>\n",
       "      <td>4</td>\n",
       "      <td>4</td>\n",
       "      <td>1015700</td>\n",
       "      <td>ad</td>\n",
       "      <td>False</td>\n",
       "      <td>276</td>\n",
       "      <td>Friday</td>\n",
       "      <td>14</td>\n",
       "    </tr>\n",
       "  </tbody>\n",
       "</table>\n",
       "</div>"
      ],
      "text/plain": [
       "   Unnamed: 0  user id test group  converted  total ads most ads day  \\\n",
       "0           0  1069124         ad      False        130       Monday   \n",
       "1           1  1119715         ad      False         93      Tuesday   \n",
       "2           2  1144181         ad      False         21      Tuesday   \n",
       "3           3  1435133         ad      False        355      Tuesday   \n",
       "4           4  1015700         ad      False        276       Friday   \n",
       "\n",
       "   most ads hour  \n",
       "0             20  \n",
       "1             22  \n",
       "2             18  \n",
       "3             10  \n",
       "4             14  "
      ]
     },
     "execution_count": 4,
     "metadata": {},
     "output_type": "execute_result"
    }
   ],
   "source": [
    "df.head()"
   ]
  },
  {
   "cell_type": "code",
   "execution_count": 5,
   "metadata": {},
   "outputs": [
    {
     "data": {
      "text/plain": [
       "(588101, 7)"
      ]
     },
     "execution_count": 5,
     "metadata": {},
     "output_type": "execute_result"
    }
   ],
   "source": [
    "df.shape"
   ]
  },
  {
   "cell_type": "code",
   "execution_count": 6,
   "metadata": {},
   "outputs": [
    {
     "data": {
      "text/html": [
       "<div>\n",
       "<style scoped>\n",
       "    .dataframe tbody tr th:only-of-type {\n",
       "        vertical-align: middle;\n",
       "    }\n",
       "\n",
       "    .dataframe tbody tr th {\n",
       "        vertical-align: top;\n",
       "    }\n",
       "\n",
       "    .dataframe thead th {\n",
       "        text-align: right;\n",
       "    }\n",
       "</style>\n",
       "<table border=\"1\" class=\"dataframe\">\n",
       "  <thead>\n",
       "    <tr style=\"text-align: right;\">\n",
       "      <th></th>\n",
       "      <th>Unnamed: 0</th>\n",
       "      <th>user id</th>\n",
       "      <th>test group</th>\n",
       "      <th>converted</th>\n",
       "      <th>total ads</th>\n",
       "      <th>most ads day</th>\n",
       "      <th>most ads hour</th>\n",
       "    </tr>\n",
       "  </thead>\n",
       "  <tbody>\n",
       "  </tbody>\n",
       "</table>\n",
       "</div>"
      ],
      "text/plain": [
       "Empty DataFrame\n",
       "Columns: [Unnamed: 0, user id, test group, converted, total ads, most ads day, most ads hour]\n",
       "Index: []"
      ]
     },
     "execution_count": 6,
     "metadata": {},
     "output_type": "execute_result"
    }
   ],
   "source": [
    "df[df.duplicated()]"
   ]
  },
  {
   "cell_type": "code",
   "execution_count": 7,
   "metadata": {},
   "outputs": [
    {
     "data": {
      "text/html": [
       "<div>\n",
       "<style scoped>\n",
       "    .dataframe tbody tr th:only-of-type {\n",
       "        vertical-align: middle;\n",
       "    }\n",
       "\n",
       "    .dataframe tbody tr th {\n",
       "        vertical-align: top;\n",
       "    }\n",
       "\n",
       "    .dataframe thead th {\n",
       "        text-align: right;\n",
       "    }\n",
       "</style>\n",
       "<table border=\"1\" class=\"dataframe\">\n",
       "  <thead>\n",
       "    <tr style=\"text-align: right;\">\n",
       "      <th></th>\n",
       "      <th>Unnamed: 0</th>\n",
       "      <th>user id</th>\n",
       "      <th>test group</th>\n",
       "      <th>converted</th>\n",
       "      <th>total ads</th>\n",
       "      <th>most ads day</th>\n",
       "      <th>most ads hour</th>\n",
       "    </tr>\n",
       "  </thead>\n",
       "  <tbody>\n",
       "  </tbody>\n",
       "</table>\n",
       "</div>"
      ],
      "text/plain": [
       "Empty DataFrame\n",
       "Columns: [Unnamed: 0, user id, test group, converted, total ads, most ads day, most ads hour]\n",
       "Index: []"
      ]
     },
     "execution_count": 7,
     "metadata": {},
     "output_type": "execute_result"
    }
   ],
   "source": [
    "df[df.duplicated(subset = 'user id')]"
   ]
  },
  {
   "cell_type": "code",
   "execution_count": 8,
   "metadata": {},
   "outputs": [
    {
     "data": {
      "text/plain": [
       "0"
      ]
     },
     "execution_count": 8,
     "metadata": {},
     "output_type": "execute_result"
    }
   ],
   "source": [
    "df.duplicated(subset = 'user id').sum()"
   ]
  },
  {
   "cell_type": "code",
   "execution_count": 9,
   "metadata": {},
   "outputs": [],
   "source": [
    "#Drop unwanted columns\n",
    "df.drop(['Unnamed: 0','user id'],axis = 1, inplace=True)"
   ]
  },
  {
   "cell_type": "code",
   "execution_count": 10,
   "metadata": {},
   "outputs": [
    {
     "data": {
      "text/plain": [
       "Index(['test group', 'converted', 'total ads', 'most ads day',\n",
       "       'most ads hour'],\n",
       "      dtype='object')"
      ]
     },
     "execution_count": 10,
     "metadata": {},
     "output_type": "execute_result"
    }
   ],
   "source": [
    "df.columns"
   ]
  },
  {
   "cell_type": "code",
   "execution_count": 11,
   "metadata": {},
   "outputs": [
    {
     "data": {
      "text/plain": [
       "test group       0\n",
       "converted        0\n",
       "total ads        0\n",
       "most ads day     0\n",
       "most ads hour    0\n",
       "dtype: int64"
      ]
     },
     "execution_count": 11,
     "metadata": {},
     "output_type": "execute_result"
    }
   ],
   "source": [
    "df.isnull().sum()"
   ]
  },
  {
   "cell_type": "code",
   "execution_count": 12,
   "metadata": {},
   "outputs": [
    {
     "data": {
      "text/plain": [
       "test group        2\n",
       "converted         2\n",
       "most ads day      7\n",
       "most ads hour    24\n",
       "dtype: int64"
      ]
     },
     "execution_count": 12,
     "metadata": {},
     "output_type": "execute_result"
    }
   ],
   "source": [
    "df_cat = df[['test group','converted','most ads day','most ads hour']]\n",
    "df_cat.nunique()"
   ]
  },
  {
   "cell_type": "code",
   "execution_count": 13,
   "metadata": {},
   "outputs": [
    {
     "name": "stdout",
     "output_type": "stream",
     "text": [
      "TEST GROUP : ['ad' 'psa']\n",
      "CONVERTED : [False  True]\n",
      "MOST ADS DAY : ['Monday' 'Tuesday' 'Friday' 'Saturday' 'Wednesday' 'Sunday' 'Thursday']\n",
      "MOST ADS HOUR : [20 22 18 10 14 13 19 11 12 16 21  3 23  4  8  0  2 15  1  6 17  7  9  5]\n"
     ]
    }
   ],
   "source": [
    "for i in df_cat:\n",
    "    print(i.upper(),\":\",df[i].unique())"
   ]
  },
  {
   "cell_type": "markdown",
   "metadata": {},
   "source": [
    "## Univariate Analysis"
   ]
  },
  {
   "cell_type": "code",
   "execution_count": 14,
   "metadata": {},
   "outputs": [
    {
     "data": {
      "image/png": "[encoded data removed]",
      "text/plain": [
       "<Figure size 432x288 with 2 Axes>"
      ]
     },
     "metadata": {
      "needs_background": "light"
     },
     "output_type": "display_data"
    }
   ],
   "source": [
    "variable = 'test group'\n",
    "\n",
    "plt.figure(figsize=(6,4))\n",
    "\n",
    "plt.subplot(1,2,1)\n",
    "sns.countplot(x=variable, data = df_cat)\n",
    "plt.title(f'Count Plot - {variable}')\n",
    "\n",
    "plt.subplot(1,2,2)\n",
    "counts = df_cat[variable].value_counts()\n",
    "plt.pie(counts, labels = counts.index, autopct = '%0.2f%%')\n",
    "plt.title(f\"Pie Chart - {variable}\")\n",
    "\n",
    "plt.tight_layout()\n",
    "\n",
    "plt.show()"
   ]
  },
  {
   "cell_type": "code",
   "execution_count": 15,
   "metadata": {
    "scrolled": true
   },
   "outputs": [
    {
     "data": {
      "image/png": "[encoded data removed]",
      "text/plain": [
       "<Figure size 432x288 with 2 Axes>"
      ]
     },
     "metadata": {
      "needs_background": "light"
     },
     "output_type": "display_data"
    }
   ],
   "source": [
    "variable = 'converted'\n",
    "\n",
    "plt.figure(figsize=(6,4))\n",
    "\n",
    "plt.subplot(1,2,1)\n",
    "sns.countplot(x=variable, data = df_cat)\n",
    "plt.title(f'Count Plot - {variable}')\n",
    "\n",
    "plt.subplot(1,2,2)\n",
    "counts = df_cat[variable].value_counts()\n",
    "plt.pie(counts, labels = counts.index, autopct = '%0.2f%%')\n",
    "plt.title(f\"Pie Chart - {variable}\")\n",
    "\n",
    "plt.tight_layout()\n",
    "\n",
    "plt.show()"
   ]
  },
  {
   "cell_type": "code",
   "execution_count": 16,
   "metadata": {},
   "outputs": [
    {
     "data": {
      "image/png": "[encoded data removed]",
      "text/plain": [
       "<Figure size 432x288 with 2 Axes>"
      ]
     },
     "metadata": {
      "needs_background": "light"
     },
     "output_type": "display_data"
    }
   ],
   "source": [
    "variable = 'most ads day'\n",
    "\n",
    "plt.figure(figsize=(6,4))\n",
    "\n",
    "plt.subplot(1,2,1)\n",
    "sns.countplot(x=variable, data = df_cat, order=df_cat[variable].value_counts().index)\n",
    "plt.title(f'Count Plot - {variable}')\n",
    "plt.xticks(rotation = 90)\n",
    "\n",
    "plt.subplot(1,2,2)\n",
    "counts = df_cat[variable].value_counts()\n",
    "plt.pie(counts, labels = counts.index, autopct = '%0.2f%%')\n",
    "plt.title(f\"Pie Chart - {variable}\")\n",
    "\n",
    "plt.tight_layout()\n",
    "\n",
    "plt.show()"
   ]
  },
  {
   "cell_type": "code",
   "execution_count": 17,
   "metadata": {},
   "outputs": [
    {
     "data": {
      "text/plain": [
       "Friday       92608\n",
       "Monday       87073\n",
       "Sunday       85391\n",
       "Thursday     82982\n",
       "Saturday     81660\n",
       "Wednesday    80908\n",
       "Tuesday      77479\n",
       "Name: most ads day, dtype: int64"
      ]
     },
     "execution_count": 17,
     "metadata": {},
     "output_type": "execute_result"
    }
   ],
   "source": [
    "df_cat['most ads day'].value_counts()"
   ]
  },
  {
   "cell_type": "code",
   "execution_count": 18,
   "metadata": {},
   "outputs": [
    {
     "data": {
      "text/plain": [
       "13    47655\n",
       "12    47298\n",
       "11    46210\n",
       "14    45648\n",
       "15    44683\n",
       "10    38939\n",
       "16    37567\n",
       "17    34988\n",
       "18    32323\n",
       "9     31004\n",
       "19    30352\n",
       "21    29976\n",
       "20    28923\n",
       "22    26432\n",
       "23    20166\n",
       "8     17627\n",
       "7      6405\n",
       "0      5536\n",
       "2      5333\n",
       "1      4802\n",
       "3      2679\n",
       "6      2068\n",
       "5       765\n",
       "4       722\n",
       "Name: most ads hour, dtype: int64"
      ]
     },
     "execution_count": 18,
     "metadata": {},
     "output_type": "execute_result"
    }
   ],
   "source": [
    "df_cat['most ads hour'].value_counts()"
   ]
  },
  {
   "cell_type": "code",
   "execution_count": 19,
   "metadata": {},
   "outputs": [
    {
     "data": {
      "image/png": "[encoded data removed]",
      "text/plain": [
       "<Figure size 864x288 with 2 Axes>"
      ]
     },
     "metadata": {
      "needs_background": "light"
     },
     "output_type": "display_data"
    }
   ],
   "source": [
    "variable = 'most ads hour'\n",
    "\n",
    "plt.figure(figsize=(12,4))\n",
    "\n",
    "plt.subplot(1,2,1)\n",
    "sns.countplot(x=variable, data = df_cat)\n",
    "plt.title(f'Count Plot - {variable}')\n",
    "\n",
    "plt.subplot(1,2,2)\n",
    "counts = df_cat[variable].value_counts()\n",
    "plt.pie(counts, labels = counts.index, autopct = '%0.2f%%')\n",
    "plt.title(f\"Pie Chart - {variable}\")\n",
    "\n",
    "plt.tight_layout()\n",
    "\n",
    "plt.show()"
   ]
  },
  {
   "cell_type": "code",
   "execution_count": 20,
   "metadata": {},
   "outputs": [
    {
     "data": {
      "image/png": "[encoded data removed]",
      "text/plain": [
       "<Figure size 432x288 with 2 Axes>"
      ]
     },
     "metadata": {
      "needs_background": "light"
     },
     "output_type": "display_data"
    }
   ],
   "source": [
    "variable = 'total ads'\n",
    "\n",
    "plt.figure(figsize=(6,4))\n",
    "plt.subplot(1,2,1)\n",
    "sns.histplot(data=df, x=variable)\n",
    "plt.title(f'Histogram - {variable}')\n",
    "\n",
    "plt.subplot(1,2,2)\n",
    "sns.boxplot(data=df, y=variable)\n",
    "plt.title(f'Boxplot - {variable}')\n",
    "\n",
    "plt.tight_layout()\n",
    "\n",
    "plt.show()"
   ]
  },
  {
   "cell_type": "code",
   "execution_count": 21,
   "metadata": {},
   "outputs": [
    {
     "data": {
      "text/plain": [
       "count    588101.000000\n",
       "mean         24.820876\n",
       "std          43.715181\n",
       "min           1.000000\n",
       "25%           4.000000\n",
       "50%          13.000000\n",
       "75%          27.000000\n",
       "max        2065.000000\n",
       "Name: total ads, dtype: float64"
      ]
     },
     "execution_count": 21,
     "metadata": {},
     "output_type": "execute_result"
    }
   ],
   "source": [
    "df['total ads'].describe()"
   ]
  },
  {
   "cell_type": "code",
   "execution_count": 22,
   "metadata": {},
   "outputs": [
    {
     "data": {
      "image/png": "[encoded data removed]",
      "text/plain": [
       "<Figure size 432x288 with 2 Axes>"
      ]
     },
     "metadata": {
      "needs_background": "light"
     },
     "output_type": "display_data"
    }
   ],
   "source": [
    "variable = 'total ads'\n",
    "\n",
    "plt.figure(figsize=(6,4))\n",
    "plt.subplot(1,2,1)\n",
    "sns.histplot(data=df[df['total ads']<=27], x=variable)\n",
    "plt.title(f'Histogram - {variable}')\n",
    "\n",
    "plt.subplot(1,2,2)\n",
    "sns.boxplot(data=df[df['total ads']<=27], y=variable)\n",
    "plt.title(f'Boxplot - {variable}')\n",
    "\n",
    "plt.tight_layout()\n",
    "\n",
    "plt.show()"
   ]
  },
  {
   "cell_type": "markdown",
   "metadata": {},
   "source": [
    "## Bivariate Analysis"
   ]
  },
  {
   "cell_type": "code",
   "execution_count": 23,
   "metadata": {},
   "outputs": [
    {
     "data": {
      "text/plain": [
       "Index(['test group', 'converted', 'total ads', 'most ads day',\n",
       "       'most ads hour'],\n",
       "      dtype='object')"
      ]
     },
     "execution_count": 23,
     "metadata": {},
     "output_type": "execute_result"
    }
   ],
   "source": [
    "df.columns"
   ]
  },
  {
   "cell_type": "code",
   "execution_count": 24,
   "metadata": {},
   "outputs": [
    {
     "data": {
      "text/html": [
       "<div>\n",
       "<style scoped>\n",
       "    .dataframe tbody tr th:only-of-type {\n",
       "        vertical-align: middle;\n",
       "    }\n",
       "\n",
       "    .dataframe tbody tr th {\n",
       "        vertical-align: top;\n",
       "    }\n",
       "\n",
       "    .dataframe thead th {\n",
       "        text-align: right;\n",
       "    }\n",
       "</style>\n",
       "<table border=\"1\" class=\"dataframe\">\n",
       "  <thead>\n",
       "    <tr style=\"text-align: right;\">\n",
       "      <th>converted</th>\n",
       "      <th>False</th>\n",
       "      <th>True</th>\n",
       "    </tr>\n",
       "    <tr>\n",
       "      <th>test group</th>\n",
       "      <th></th>\n",
       "      <th></th>\n",
       "    </tr>\n",
       "  </thead>\n",
       "  <tbody>\n",
       "    <tr>\n",
       "      <td>ad</td>\n",
       "      <td>550154</td>\n",
       "      <td>14423</td>\n",
       "    </tr>\n",
       "    <tr>\n",
       "      <td>psa</td>\n",
       "      <td>23104</td>\n",
       "      <td>420</td>\n",
       "    </tr>\n",
       "  </tbody>\n",
       "</table>\n",
       "</div>"
      ],
      "text/plain": [
       "converted    False  True \n",
       "test group               \n",
       "ad          550154  14423\n",
       "psa          23104    420"
      ]
     },
     "execution_count": 24,
     "metadata": {},
     "output_type": "execute_result"
    }
   ],
   "source": [
    "ct_conversion_test_group = pd.crosstab(index=df['test group'], columns=df['converted'])\n",
    "ct_conversion_test_group"
   ]
  },
  {
   "cell_type": "code",
   "execution_count": 25,
   "metadata": {},
   "outputs": [
    {
     "data": {
      "text/html": [
       "<div>\n",
       "<style scoped>\n",
       "    .dataframe tbody tr th:only-of-type {\n",
       "        vertical-align: middle;\n",
       "    }\n",
       "\n",
       "    .dataframe tbody tr th {\n",
       "        vertical-align: top;\n",
       "    }\n",
       "\n",
       "    .dataframe thead th {\n",
       "        text-align: right;\n",
       "    }\n",
       "</style>\n",
       "<table border=\"1\" class=\"dataframe\">\n",
       "  <thead>\n",
       "    <tr style=\"text-align: right;\">\n",
       "      <th>converted</th>\n",
       "      <th>False</th>\n",
       "      <th>True</th>\n",
       "    </tr>\n",
       "    <tr>\n",
       "      <th>test group</th>\n",
       "      <th></th>\n",
       "      <th></th>\n",
       "    </tr>\n",
       "  </thead>\n",
       "  <tbody>\n",
       "    <tr>\n",
       "      <td>ad</td>\n",
       "      <td>0.974453</td>\n",
       "      <td>0.025547</td>\n",
       "    </tr>\n",
       "    <tr>\n",
       "      <td>psa</td>\n",
       "      <td>0.982146</td>\n",
       "      <td>0.017854</td>\n",
       "    </tr>\n",
       "  </tbody>\n",
       "</table>\n",
       "</div>"
      ],
      "text/plain": [
       "converted      False     True \n",
       "test group                    \n",
       "ad          0.974453  0.025547\n",
       "psa         0.982146  0.017854"
      ]
     },
     "execution_count": 25,
     "metadata": {},
     "output_type": "execute_result"
    }
   ],
   "source": [
    "ct_conversion_test_group = pd.crosstab(index=df['test group'], columns=df['converted'], normalize = 'index')\n",
    "ct_conversion_test_group"
   ]
  },
  {
   "cell_type": "code",
   "execution_count": 26,
   "metadata": {},
   "outputs": [
    {
     "data": {
      "text/plain": [
       "<matplotlib.axes._subplots.AxesSubplot at 0x1f779588908>"
      ]
     },
     "execution_count": 26,
     "metadata": {},
     "output_type": "execute_result"
    },
    {
     "data": {
      "image/png": "[encoded data removed]",
      "text/plain": [
       "<Figure size 432x288 with 1 Axes>"
      ]
     },
     "metadata": {
      "needs_background": "light"
     },
     "output_type": "display_data"
    }
   ],
   "source": [
    "ct_conversion_test_group[True].plot.bar()"
   ]
  },
  {
   "cell_type": "markdown",
   "metadata": {},
   "source": [
    "Users who were shown ads converted at a higher rate (2.5%) compared to users who weren’t shown ads (1.7%)."
   ]
  },
  {
   "cell_type": "code",
   "execution_count": 29,
   "metadata": {},
   "outputs": [
    {
     "name": "stdout",
     "output_type": "stream",
     "text": [
      "converted        False     True \n",
      "most ads day                    \n",
      "Monday        0.967188  0.032812\n",
      "Tuesday       0.970160  0.029840\n",
      "Wednesday     0.975058  0.024942\n",
      "Sunday        0.975524  0.024476\n",
      "Friday        0.977788  0.022212\n",
      "Thursday      0.978429  0.021571\n",
      "Saturday      0.978949  0.021051\n"
     ]
    },
    {
     "data": {
      "text/plain": [
       "<matplotlib.axes._subplots.AxesSubplot at 0x1f77494cec8>"
      ]
     },
     "execution_count": 29,
     "metadata": {},
     "output_type": "execute_result"
    },
    {
     "data": {
      "image/png": "[encoded data removed]",
      "text/plain": [
       "<Figure size 432x288 with 1 Axes>"
      ]
     },
     "metadata": {
      "needs_background": "light"
     },
     "output_type": "display_data"
    }
   ],
   "source": [
    "ct__group_day = pd.crosstab(index = df_cat['most ads day'], \n",
    "                                   columns = df_cat['converted'], \n",
    "                                   normalize = 'index' )\n",
    "ct__group_day_sorted = ct__group_day.sort_values(by=True, ascending=False)\n",
    "print(ct__group_day_sorted)\n",
    "ct__group_day_sorted[True].plot.bar()"
   ]
  },
  {
   "cell_type": "markdown",
   "metadata": {},
   "source": [
    "- Monday and Tuesday have the highest conversion rates among all days\n",
    "- Further statistical testing is needed to confirm whether the day of the week has a statistically significant impact on conversion rates."
   ]
  },
  {
   "cell_type": "code",
   "execution_count": 33,
   "metadata": {},
   "outputs": [
    {
     "name": "stdout",
     "output_type": "stream",
     "text": [
      "converted         False     True \n",
      "most ads hour                    \n",
      "16             0.969228  0.030772\n",
      "20             0.970197  0.029803\n",
      "15             0.970347  0.029653\n",
      "21             0.971077  0.028923\n",
      "17             0.971790  0.028210\n",
      "14             0.971937  0.028063\n",
      "18             0.972620  0.027380\n",
      "19             0.973280  0.026720\n",
      "22             0.973895  0.026105\n",
      "13             0.975323  0.024677\n",
      "12             0.976172  0.023828\n",
      "23             0.977338  0.022662\n",
      "6              0.977756  0.022244\n",
      "11             0.977884  0.022116\n",
      "10             0.978479  0.021521\n",
      "5              0.979085  0.020915\n",
      "8              0.980484  0.019516\n",
      "9              0.980809  0.019191\n",
      "0              0.981575  0.018425\n",
      "7              0.981889  0.018111\n",
      "4              0.984765  0.015235\n",
      "1              0.987089  0.012911\n",
      "3              0.989548  0.010452\n",
      "2              0.992687  0.007313\n"
     ]
    },
    {
     "data": {
      "text/plain": [
       "<matplotlib.axes._subplots.AxesSubplot at 0x1f774ac1248>"
      ]
     },
     "execution_count": 33,
     "metadata": {},
     "output_type": "execute_result"
    },
    {
     "data": {
      "image/png": "[encoded data removed]",
      "text/plain": [
       "<Figure size 432x288 with 1 Axes>"
      ]
     },
     "metadata": {
      "needs_background": "light"
     },
     "output_type": "display_data"
    }
   ],
   "source": [
    "ct__group_hour = pd.crosstab(index = df_cat['most ads hour'], \n",
    "                                   columns = df_cat['converted'], \n",
    "                                   normalize = 'index' )\n",
    "ct__group_hour_sorted = ct__group_hour.sort_values(by=True, ascending=False)\n",
    "print(ct__group_hour_sorted)\n",
    "ct__group_hour_sorted[True].plot.bar()"
   ]
  },
  {
   "cell_type": "markdown",
   "metadata": {},
   "source": [
    "- Conversion rate is highest 2-5pm and then from 8-9pm \n",
    "- Further statistical testing is needed to confirm whether the hour of the day has a statistically significant impact on conversion rates."
   ]
  },
  {
   "cell_type": "code",
   "execution_count": 34,
   "metadata": {},
   "outputs": [
    {
     "data": {
      "image/png": "[encoded data removed]",
      "text/plain": [
       "<Figure size 432x288 with 1 Axes>"
      ]
     },
     "metadata": {
      "needs_background": "light"
     },
     "output_type": "display_data"
    }
   ],
   "source": [
    "sns.boxplot(data =df[df['total ads']<27] , x='converted', y='total ads')\n",
    "plt.title(\"Total ads seen\")\n",
    "\n",
    "plt.show()"
   ]
  },
  {
   "cell_type": "markdown",
   "metadata": {},
   "source": [
    "- Conversion rate for people who saw more ads is higher compared to people who saw less ads.\n",
    "- Further statistical testing is needed to confirm whether the number of ads has a statistically significant impact on conversion rates."
   ]
  },
  {
   "cell_type": "markdown",
   "metadata": {},
   "source": [
    "## Statistical Tests"
   ]
  },
  {
   "cell_type": "markdown",
   "metadata": {},
   "source": [
    "The Chi-Square test is used to check whether there's a significant association between two categorical variables. In this case, it helps us determine if conversion rates vary meaningfully across different test groups, days, or hours — rather than just by chance."
   ]
  },
  {
   "cell_type": "code",
   "execution_count": 40,
   "metadata": {},
   "outputs": [
    {
     "name": "stdout",
     "output_type": "stream",
     "text": [
      "Chi-sqaured test for test group and converted\n",
      "chi2 value 54.005823883685245\n",
      "p-value 1.9989623063390075e-13\n",
      "The difference in conversation rate across test group is significant \n",
      "\n",
      "Chi-sqaured test for most ads day and converted\n",
      "chi2 value 410.0478857936585\n",
      "p-value 1.932184379244731e-85\n",
      "The difference in conversation rate across most ads day is significant \n",
      "\n",
      "Chi-sqaured test for most ads hour and converted\n",
      "chi2 value 430.76869230822086\n",
      "p-value 8.027629823696771e-77\n",
      "The difference in conversation rate across most ads hour is significant \n",
      "\n"
     ]
    }
   ],
   "source": [
    "from scipy.stats import chi2_contingency\n",
    "\n",
    "alpha = 0.05\n",
    "\n",
    "for variable in df_cat.columns:\n",
    "    if variable != 'converted':\n",
    "        \n",
    "        contingency_table = pd.crosstab(index=df_cat[variable], columns=df_cat['converted'] )\n",
    "        #print(contingency_table)\n",
    "        \n",
    "        chi2, p, dof, expected = chi2_contingency(contingency_table)\n",
    "        \n",
    "        print(f\"Chi-sqaured test for {variable} and converted\")\n",
    "        print(f\"chi2 value {chi2}\")\n",
    "        print(f\"p-value {p}\")\n",
    "        \n",
    "        if p<alpha:\n",
    "            print(f\"The difference in conversation rate across {variable} is significant \\n\")\n",
    "        else:\n",
    "            print(f\"There is no significant difference in conversion rate across {variable} \\n\")"
   ]
  },
  {
   "cell_type": "markdown",
   "metadata": {},
   "source": [
    "**Chi-Square Test Results Summary:\n",
    "There is a statistically significant association between conversion rate and each of the following variables: test group, most ads day, and most ads hour. This means that whether a user converts is influenced by the type of content they saw (ads vs PSA), the day of the week, and the hour of the day they were exposed to ads or PSAs. These findings highlight the importance of both message type and timing in influencing user behavior.**"
   ]
  },
  {
   "cell_type": "markdown",
   "metadata": {},
   "source": [
    "Before comparing the average number of ads seen between converted and non-converted users, we need to check if the data meets the assumptions for a parametric test (t-test):\n",
    "\n",
    "Shapiro-Wilk test checks if the data is normally distributed in each group.\n",
    "\n",
    "Levene’s test checks if the variances are equal between groups.\n",
    "\n",
    "If both tests pass (p > 0.05), we can use an independent t-test. If not, we should use a non-parametric test like the Mann-Whitney U test."
   ]
  },
  {
   "cell_type": "code",
   "execution_count": 35,
   "metadata": {},
   "outputs": [
    {
     "name": "stdout",
     "output_type": "stream",
     "text": [
      "Shapiro-Wilk test for normality(true group): p=value 0.0\n",
      "Shapiro-Wilk test for normality(false group): p=value 0.0\n",
      "Levene test p-value 0.0\n"
     ]
    },
    {
     "name": "stderr",
     "output_type": "stream",
     "text": [
      "C:\\Users\\14699\\Anaconda3\\lib\\site-packages\\scipy\\stats\\morestats.py:1676: UserWarning: p-value may not be accurate for N > 5000.\n",
      "  warnings.warn(\"p-value may not be accurate for N > 5000.\")\n"
     ]
    }
   ],
   "source": [
    "from scipy.stats import shapiro, levene, ttest_ind, mannwhitneyu\n",
    "\n",
    "shapiro_stat_true, shapiro_p_value_true = shapiro(df[df['converted'] == True]['total ads'])\n",
    "shapiro_stat_false, shapiro_p_value_false = shapiro(df[df['converted'] == False]['total ads'])\n",
    "\n",
    "print(\"Shapiro-Wilk test for normality(true group): p=value\",shapiro_p_value_true)\n",
    "print(\"Shapiro-Wilk test for normality(false group): p=value\",shapiro_p_value_false)\n",
    "\n",
    "levene_stat, levene_p_value = levene(df[df['converted']]['total ads'], df[~df['converted']]['total ads'])\n",
    "print(\"Levene test p-value\",levene_p_value)"
   ]
  },
  {
   "cell_type": "markdown",
   "metadata": {},
   "source": [
    "Both the Shapiro-Wilk and Levene’s tests returned p-values of 0.0, indicating that the data is not normally distributed and the variances are unequal between the converted and non-converted groups. Therefore, a non-parametric test like the Mann-Whitney U test is more appropriate for comparing the number of ads seen."
   ]
  },
  {
   "cell_type": "code",
   "execution_count": 36,
   "metadata": {},
   "outputs": [
    {
     "name": "stdout",
     "output_type": "stream",
     "text": [
      "Mann Whitney U test p-value  0.0\n"
     ]
    }
   ],
   "source": [
    "alpha = 0.05\n",
    "\n",
    "if shapiro_p_value_true > alpha and shapiro_p_value_false > alpha and levene_p_value > alpha:\n",
    "    t_stat, t_p_value = ttest_ind(df[df['converted']]['total ads'], df[~df['converted']]['total ads'])\n",
    "    print(\"independent t test p-value \",t_p_value)\n",
    "else:\n",
    "    u_stat, u_p_value = mannwhitneyu(df[df['converted']]['total ads'], df[~df['converted']]['total ads'])\n",
    "    print(\"Mann Whitney U test p-value \",u_p_value)"
   ]
  },
  {
   "cell_type": "markdown",
   "metadata": {},
   "source": [
    "The Mann-Whitney U test returned a p-value of 0.0, indicating a statistically significant difference in the number of ads seen between users who converted and those who did not. This suggests that the number of ads a user sees is associated with their likelihood to convert."
   ]
  },
  {
   "cell_type": "markdown",
   "metadata": {},
   "source": [
    "**Conclusion:**\n",
    "\n",
    "The analysis shows that users exposed to ads convert at a higher rate than those shown PSAs. Statistical testing confirms a significant association between conversion and key factors like the type of message (ad vs PSA), day of the week, and hour of the day.\n",
    "\n",
    "Conversion is highest when ads are shown between 2–5 PM and 8–9 PM, and early in the week (Monday, Tuesday).\n",
    "\n",
    "Users who converted were exposed to significantly more ads than those who didn’t, as shown by the Mann-Whitney U test (p < 0.05).\n",
    "\n",
    "The Chi-Square tests confirm that timing and message type are statistically associated with conversion.\n",
    "\n",
    "**Recommendation:** Optimize ad delivery timing to align with high-conversion windows and explore A/B testing for stronger validation."
   ]
  }
 ],
 "metadata": {
  "kernelspec": {
   "display_name": "Python 3",
   "language": "python",
   "name": "python3"
  },
  "language_info": {
   "codemirror_mode": {
    "name": "ipython",
    "version": 3
   },
   "file_extension": ".py",
   "mimetype": "text/x-python",
   "name": "python",
   "nbconvert_exporter": "python",
   "pygments_lexer": "ipython3",
   "version": "3.7.4"
  }
 },
 "nbformat": 4,
 "nbformat_minor": 2
}
